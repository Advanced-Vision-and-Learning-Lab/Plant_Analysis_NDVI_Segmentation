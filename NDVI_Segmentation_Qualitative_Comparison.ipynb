{
  "nbformat": 4,
  "nbformat_minor": 0,
  "metadata": {
    "colab": {
      "provenance": []
    },
    "kernelspec": {
      "name": "python3",
      "display_name": "Python 3"
    },
    "language_info": {
      "name": "python"
    }
  },
  "cells": [
    {
      "cell_type": "code",
      "source": [
        "!pip install ultralytics"
      ],
      "metadata": {
        "id": "QnSsqVjxf7Xx"
      },
      "execution_count": null,
      "outputs": []
    },
    {
      "cell_type": "code",
      "execution_count": null,
      "metadata": {
        "id": "jx-oDzClU-cT"
      },
      "outputs": [],
      "source": [
        "import os\n",
        "import cv2\n",
        "import numpy as np\n",
        "import matplotlib.pyplot as plt\n",
        "from PIL import Image\n",
        "from Image_Segmentation import *\n",
        "from itertools import product"
      ]
    },
    {
      "cell_type": "code",
      "source": [
        "!unzip ndvi_seg_mask_thresh_10.zip"
      ],
      "metadata": {
        "id": "kdqOckXkVOaS"
      },
      "execution_count": null,
      "outputs": []
    },
    {
      "cell_type": "code",
      "source": [
        "!rm -rf ndvi_seg_comparison_th_10.zip ndvi_seg_comparison_th_10"
      ],
      "metadata": {
        "id": "79sOo-ITlRrx"
      },
      "execution_count": null,
      "outputs": []
    },
    {
      "cell_type": "code",
      "source": [
        "segmentation_model_weights_path = 'yolo_segmentation_model.pt'\n",
        "segmentation_model = load_yolo_model(segmentation_model_weights_path)\n",
        "device = 'cpu'\n",
        "\n",
        "def tile(image, d=2):\n",
        "\n",
        "  w, h = image.size\n",
        "  grid = product(range(0, h-h%d, d), range(0, w-w%d, d))\n",
        "  boxes = []\n",
        "\n",
        "  for i, j in grid:\n",
        "      box = (j, i, j+d, i+d)\n",
        "      boxes.append(box)\n",
        "\n",
        "  return boxes"
      ],
      "metadata": {
        "id": "IweFY86CRD02"
      },
      "execution_count": null,
      "outputs": []
    },
    {
      "cell_type": "code",
      "source": [
        "def get_comparison(folder_path, output_folder):\n",
        "\n",
        "  if not os.path.exists(output_folder):\n",
        "    os.makedirs(output_folder)\n",
        "    os.makedirs(os.path.join(output_folder,'crf'))\n",
        "    os.makedirs(os.path.join(output_folder,'crf_filter'))\n",
        "\n",
        "  images_list = os.listdir(folder_path)\n",
        "  for image_name in images_list:\n",
        "    image_path = os.path.join(folder_path, image_name)\n",
        "    image = cv2.imread(image_path)\n",
        "    image = cv2.cvtColor(image, cv2.COLOR_BGR2RGB)\n",
        "    original_image = image[:,:512,:].copy()\n",
        "    ndvi_seg_mask = image[:,512:,:1].copy()/255\n",
        "    ndvi_seg_mask = ndvi_seg_mask[:,:,0]\n",
        "\n",
        "    results = segmentation_model.predict(original_image, conf = 0.128, device = device)\n",
        "    result = results[0]\n",
        "    if result.masks.data.shape[0] > 4:\n",
        "      result.masks.data = result.masks.data[:4]\n",
        "    mask = preprocess_mask(result.masks.data)\n",
        "    binary_mask_np = generate_binary_mask(mask)\n",
        "    yolo_seg_image = overlay_mask_on_image(binary_mask_np, original_image)\n",
        "\n",
        "    refined_mask = ndvi_seg_mask.astype(np.uint8) * 255\n",
        "    contours, _ = cv2.findContours(refined_mask, cv2.RETR_EXTERNAL, cv2.CHAIN_APPROX_SIMPLE)\n",
        "    mask = np.zeros(refined_mask.shape, dtype=np.uint8)\n",
        "    min_area = 500\n",
        "    for contour in contours:\n",
        "        if cv2.contourArea(contour) > min_area:\n",
        "            mask = cv2.drawContours(mask, [contour], -1, 255, -1)\n",
        "    filtered_mask = cv2.bitwise_and(refined_mask, refined_mask, mask=mask)\n",
        "    binary_mask_np = generate_binary_mask(filtered_mask)\n",
        "    ndvi_seg_image = overlay_mask_on_image(binary_mask_np, original_image)\n",
        "    comparison_image = np.concatenate((original_image, yolo_seg_image , ndvi_seg_image), axis=1)\n",
        "    output_image_path = os.path.join(output_folder, image_name)\n",
        "    cv2.imwrite(output_image_path, cv2.cvtColor(comparison_image, cv2.COLOR_BGR2RGB))\n",
        "    print(f\"Image {image_name} saved to {output_image_path}\")"
      ],
      "metadata": {
        "id": "1NhqKddueDrK"
      },
      "execution_count": null,
      "outputs": []
    },
    {
      "cell_type": "code",
      "source": [
        "output_folder = 'ndvi_seg_comparison_th_10'\n",
        "comparison_image = get_comparison('thresh_10', output_folder)"
      ],
      "metadata": {
        "id": "0UwQvkuMe1tL"
      },
      "execution_count": null,
      "outputs": []
    },
    {
      "cell_type": "code",
      "source": [
        "!zip -r ndvi_seg_comparison_th_10.zip ndvi_seg_comparison_th_10"
      ],
      "metadata": {
        "id": "hYGftJT1fk7n"
      },
      "execution_count": null,
      "outputs": []
    },
    {
      "cell_type": "code",
      "source": [],
      "metadata": {
        "id": "nic-5vt2i9gT"
      },
      "execution_count": null,
      "outputs": []
    }
  ]
}